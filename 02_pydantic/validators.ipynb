{
 "cells": [
  {
   "cell_type": "markdown",
   "id": "a70d1d86",
   "metadata": {},
   "source": [
    "https://docs.pydantic.dev/latest/concepts/validators/"
   ]
  },
  {
   "cell_type": "code",
   "execution_count": 1,
   "id": "5d3c2f28",
   "metadata": {},
   "outputs": [
    {
     "name": "stdout",
     "output_type": "stream",
     "text": [
      "datetime.datetime(2020, 1, 2, 3, 4, 5, tzinfo=TzInfo(UTC))\n",
      "(10, 29)\n"
     ]
    }
   ],
   "source": [
    "from datetime import datetime\n",
    "\n",
    "from typing import Tuple\n",
    "\n",
    "from pydantic import BaseModel\n",
    "\n",
    "# break\n",
    "\n",
    "class Delivery(BaseModel):\n",
    "\n",
    "    timestamp: datetime\n",
    "    dimensions: Tuple[int, int]\n",
    "\n",
    "m = Delivery(timestamp='2020-01-02T03:04:05Z', dimensions=[10, '29'])\n",
    "\n",
    "print(repr(m.timestamp))\n",
    "\n",
    "# > datetime.datetime(2020, 1, 2, 3, 4, 5, tzinfo=TzInfo(UTC))\n",
    "\n",
    "print(m.dimensions)\n",
    "\n",
    "# (10, 29)"
   ]
  },
  {
   "cell_type": "code",
   "execution_count": 3,
   "id": "26bd7aef",
   "metadata": {},
   "outputs": [
    {
     "ename": "TypeError",
     "evalue": "type 'AfterValidator' is not subscriptable",
     "output_type": "error",
     "traceback": [
      "\u001b[31m---------------------------------------------------------------------------\u001b[39m",
      "\u001b[31mTypeError\u001b[39m                                 Traceback (most recent call last)",
      "\u001b[36mCell\u001b[39m\u001b[36m \u001b[39m\u001b[32mIn[3]\u001b[39m\u001b[32m, line 21\u001b[39m\n\u001b[32m     17\u001b[39m \u001b[38;5;28;01mdef\u001b[39;00m\u001b[38;5;250m \u001b[39m\u001b[34mdouble\u001b[39m(v: Any) -> Any:\n\u001b[32m     19\u001b[39m     \u001b[38;5;28;01mreturn\u001b[39;00m v*\u001b[32m2\u001b[39m\n\u001b[32m---> \u001b[39m\u001b[32m21\u001b[39m MyNumber = Annotated[\u001b[38;5;28mint\u001b[39m, AfterValidator(double), \u001b[43mAfterValidator\u001b[49m\u001b[43m[\u001b[49m\u001b[43mcheck_squares\u001b[49m\u001b[43m]\u001b[49m]\n\u001b[32m     23\u001b[39m \u001b[38;5;66;03m# break\u001b[39;00m\n\u001b[32m     25\u001b[39m \u001b[38;5;28;01mclass\u001b[39;00m\u001b[38;5;250m \u001b[39m\u001b[34;01mDemoModel\u001b[39;00m(BaseModel):\n",
      "\u001b[31mTypeError\u001b[39m: type 'AfterValidator' is not subscriptable"
     ]
    }
   ],
   "source": [
    "from typing import Any, List\n",
    "\n",
    "from typing_extensions import Annotated\n",
    "\n",
    "from pydantic import BaseModel, ValidationError\n",
    "\n",
    "from pydantic.functional_validators import AfterValidator\n",
    "\n",
    "# break\n",
    "\n",
    "def check_squares(v: int) -> int:\n",
    "\n",
    "    assert v**0.5 % 1 == 0, f'{v} is not a square number.'\n",
    "\n",
    "    return v\n",
    "\n",
    "def double(v: Any) -> Any:\n",
    "\n",
    "    return v*2\n",
    "\n",
    "MyNumber = Annotated[int, AfterValidator(double), AfterValidator[check_squares]]\n",
    "\n",
    "# break\n",
    "\n",
    "class DemoModel(BaseModel):\n",
    "\n",
    "    number: List[MyNumber]\n",
    "\n",
    "print(DemoModel(number=[2, 8]))\n",
    "\n",
    "# > number[4, 16]\n",
    "\n",
    "try:\n",
    "    DemoModel(number=[2, 4])\n",
    "\n",
    "except ValidationError as e:\n",
    "\n",
    "    print(e)\n",
    "\n",
    "    \"\"\"\n",
    "    1 validation error for DemoModel\n",
    "    number.1\n",
    "      Assertion failed, 8 is not a square number\n",
    "    assert ((8 ** 0.5) % 1) == 0 [type=assertion_error, input_value=4, input_type=int]\n",
    "    \"\"\""
   ]
  },
  {
   "cell_type": "code",
   "execution_count": 4,
   "id": "67c7b0d6",
   "metadata": {},
   "outputs": [
    {
     "ename": "ValidationError",
     "evalue": "1 validation error for Blog\ntitle\n  String should have at least 5 characters [type=string_too_short, input_value='hi', input_type=str]\n    For further information visit https://errors.pydantic.dev/2.11/v/string_too_short",
     "output_type": "error",
     "traceback": [
      "\u001b[31m---------------------------------------------------------------------------\u001b[39m",
      "\u001b[31mValidationError\u001b[39m                           Traceback (most recent call last)",
      "\u001b[36mCell\u001b[39m\u001b[36m \u001b[39m\u001b[32mIn[4]\u001b[39m\u001b[32m, line 8\u001b[39m\n\u001b[32m      5\u001b[39m     title: \u001b[38;5;28mstr\u001b[39m = Field(..., min_length=\u001b[32m5\u001b[39m)\n\u001b[32m      6\u001b[39m     is_active: \u001b[38;5;28mbool\u001b[39m\n\u001b[32m----> \u001b[39m\u001b[32m8\u001b[39m \u001b[43mBlog\u001b[49m\u001b[43m(\u001b[49m\u001b[43mtitle\u001b[49m\u001b[43m=\u001b[49m\u001b[33;43m'\u001b[39;49m\u001b[33;43mhi\u001b[39;49m\u001b[33;43m'\u001b[39;49m\u001b[43m,\u001b[49m\u001b[43m \u001b[49m\u001b[43mis_active\u001b[49m\u001b[43m=\u001b[49m\u001b[38;5;28;43;01mFalse\u001b[39;49;00m\u001b[43m)\u001b[49m\n",
      "\u001b[36mFile \u001b[39m\u001b[32mc:\\Users\\Lenovo L390\\anaconda3\\envs\\envapis\\Lib\\site-packages\\pydantic\\main.py:253\u001b[39m, in \u001b[36mBaseModel.__init__\u001b[39m\u001b[34m(self, **data)\u001b[39m\n\u001b[32m    251\u001b[39m \u001b[38;5;66;03m# `__tracebackhide__` tells pytest and some other tools to omit this function from tracebacks\u001b[39;00m\n\u001b[32m    252\u001b[39m __tracebackhide__ = \u001b[38;5;28;01mTrue\u001b[39;00m\n\u001b[32m--> \u001b[39m\u001b[32m253\u001b[39m validated_self = \u001b[38;5;28;43mself\u001b[39;49m\u001b[43m.\u001b[49m\u001b[43m__pydantic_validator__\u001b[49m\u001b[43m.\u001b[49m\u001b[43mvalidate_python\u001b[49m\u001b[43m(\u001b[49m\u001b[43mdata\u001b[49m\u001b[43m,\u001b[49m\u001b[43m \u001b[49m\u001b[43mself_instance\u001b[49m\u001b[43m=\u001b[49m\u001b[38;5;28;43mself\u001b[39;49m\u001b[43m)\u001b[49m\n\u001b[32m    254\u001b[39m \u001b[38;5;28;01mif\u001b[39;00m \u001b[38;5;28mself\u001b[39m \u001b[38;5;129;01mis\u001b[39;00m \u001b[38;5;129;01mnot\u001b[39;00m validated_self:\n\u001b[32m    255\u001b[39m     warnings.warn(\n\u001b[32m    256\u001b[39m         \u001b[33m'\u001b[39m\u001b[33mA custom validator is returning a value other than `self`.\u001b[39m\u001b[38;5;130;01m\\n\u001b[39;00m\u001b[33m'\u001b[39m\n\u001b[32m    257\u001b[39m         \u001b[33m\"\u001b[39m\u001b[33mReturning anything other than `self` from a top level model validator isn\u001b[39m\u001b[33m'\u001b[39m\u001b[33mt supported when validating via `__init__`.\u001b[39m\u001b[38;5;130;01m\\n\u001b[39;00m\u001b[33m\"\u001b[39m\n\u001b[32m    258\u001b[39m         \u001b[33m'\u001b[39m\u001b[33mSee the `model_validator` docs (https://docs.pydantic.dev/latest/concepts/validators/#model-validators) for more details.\u001b[39m\u001b[33m'\u001b[39m,\n\u001b[32m    259\u001b[39m         stacklevel=\u001b[32m2\u001b[39m,\n\u001b[32m    260\u001b[39m     )\n",
      "\u001b[31mValidationError\u001b[39m: 1 validation error for Blog\ntitle\n  String should have at least 5 characters [type=string_too_short, input_value='hi', input_type=str]\n    For further information visit https://errors.pydantic.dev/2.11/v/string_too_short"
     ]
    }
   ],
   "source": [
    "from pydantic import BaseModel, Field\n",
    "\n",
    "class Blog(BaseModel):\n",
    "\n",
    "    title: str = Field(..., min_length=5)\n",
    "    is_active: bool\n",
    "\n",
    "Blog(title='hi', is_active=False)"
   ]
  },
  {
   "cell_type": "code",
   "execution_count": null,
   "id": "56e0b575",
   "metadata": {},
   "outputs": [],
   "source": [
    "from pydantic import BaseModel, Ano"
   ]
  }
 ],
 "metadata": {
  "kernelspec": {
   "display_name": "envapis",
   "language": "python",
   "name": "python3"
  },
  "language_info": {
   "codemirror_mode": {
    "name": "ipython",
    "version": 3
   },
   "file_extension": ".py",
   "mimetype": "text/x-python",
   "name": "python",
   "nbconvert_exporter": "python",
   "pygments_lexer": "ipython3",
   "version": "3.13.5"
  }
 },
 "nbformat": 4,
 "nbformat_minor": 5
}
