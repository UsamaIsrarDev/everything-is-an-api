{
 "cells": [
  {
   "cell_type": "markdown",
   "id": "b3ebddfd",
   "metadata": {},
   "source": [
    "## Pydantic: Data validation using Python type hints\n",
    "\n",
    "We will learn how to get started with Pydantic, a data validation library for Python based on type annotations.\n",
    "\n",
    "Watch this Video Tutorial:\n",
    "\n",
    "Pydantic Tutorial • Solving Python's Biggest Problem\n",
    "\n",
    "https://www.youtube.com/watch?v=XIdQ6gO3Anc"
   ]
  },
  {
   "cell_type": "code",
   "execution_count": 1,
   "id": "3b1824d6",
   "metadata": {},
   "outputs": [
    {
     "name": "stdout",
     "output_type": "stream",
     "text": [
      "Requirement already satisfied: pydantic in c:\\users\\lenovo l390\\anaconda3\\envs\\envapis\\lib\\site-packages (from -r requirements.txt (line 1)) (2.11.7)\n",
      "Collecting email-validator (from -r requirements.txt (line 2))\n",
      "  Downloading email_validator-2.3.0-py3-none-any.whl.metadata (26 kB)\n",
      "Requirement already satisfied: annotated-types>=0.6.0 in c:\\users\\lenovo l390\\anaconda3\\envs\\envapis\\lib\\site-packages (from pydantic->-r requirements.txt (line 1)) (0.7.0)\n",
      "Requirement already satisfied: pydantic-core==2.33.2 in c:\\users\\lenovo l390\\anaconda3\\envs\\envapis\\lib\\site-packages (from pydantic->-r requirements.txt (line 1)) (2.33.2)\n",
      "Requirement already satisfied: typing-extensions>=4.12.2 in c:\\users\\lenovo l390\\anaconda3\\envs\\envapis\\lib\\site-packages (from pydantic->-r requirements.txt (line 1)) (4.14.1)\n",
      "Requirement already satisfied: typing-inspection>=0.4.0 in c:\\users\\lenovo l390\\anaconda3\\envs\\envapis\\lib\\site-packages (from pydantic->-r requirements.txt (line 1)) (0.4.1)\n",
      "Collecting dnspython>=2.0.0 (from email-validator->-r requirements.txt (line 2))\n",
      "  Downloading dnspython-2.7.0-py3-none-any.whl.metadata (5.8 kB)\n",
      "Requirement already satisfied: idna>=2.0.0 in c:\\users\\lenovo l390\\anaconda3\\envs\\envapis\\lib\\site-packages (from email-validator->-r requirements.txt (line 2)) (3.10)\n",
      "Downloading email_validator-2.3.0-py3-none-any.whl (35 kB)\n",
      "Downloading dnspython-2.7.0-py3-none-any.whl (313 kB)\n",
      "Installing collected packages: dnspython, email-validator\n",
      "\n",
      "   ---------------------------------------- 0/2 [dnspython]\n",
      "   ---------------------------------------- 0/2 [dnspython]\n",
      "   ---------------------------------------- 0/2 [dnspython]\n",
      "   -------------------- ------------------- 1/2 [email-validator]\n",
      "   ---------------------------------------- 2/2 [email-validator]\n",
      "\n",
      "Successfully installed dnspython-2.7.0 email-validator-2.3.0\n",
      "Note: you may need to restart the kernel to use updated packages.\n"
     ]
    }
   ],
   "source": [
    "%pip install -r requirements.txt"
   ]
  },
  {
   "cell_type": "code",
   "execution_count": 2,
   "id": "35feea19",
   "metadata": {},
   "outputs": [
    {
     "ename": "NameError",
     "evalue": "name 'account_id' is not defined",
     "output_type": "error",
     "traceback": [
      "\u001b[31m---------------------------------------------------------------------------\u001b[39m",
      "\u001b[31mNameError\u001b[39m                                 Traceback (most recent call last)",
      "\u001b[36mCell\u001b[39m\u001b[36m \u001b[39m\u001b[32mIn[2]\u001b[39m\u001b[32m, line 3\u001b[39m\n\u001b[32m      1\u001b[39m \u001b[38;5;28;01mfrom\u001b[39;00m\u001b[38;5;250m \u001b[39m\u001b[34;01mpydantic\u001b[39;00m\u001b[38;5;250m \u001b[39m\u001b[38;5;28;01mimport\u001b[39;00m BaseModel, EmailStr, validator\n\u001b[32m----> \u001b[39m\u001b[32m3\u001b[39m \u001b[38;5;28;43;01mclass\u001b[39;49;00m\u001b[38;5;250;43m \u001b[39;49m\u001b[34;43;01mUser\u001b[39;49;00m\u001b[43m(\u001b[49m\u001b[43mBaseModel\u001b[49m\u001b[43m)\u001b[49m\u001b[43m:\u001b[49m\n\u001b[32m      4\u001b[39m \u001b[43m    \u001b[49m\u001b[43mname\u001b[49m\u001b[43m:\u001b[49m\u001b[43m \u001b[49m\u001b[38;5;28;43mstr\u001b[39;49m\n\u001b[32m      5\u001b[39m \u001b[43m    \u001b[49m\u001b[43memail\u001b[49m\u001b[43m:\u001b[49m\u001b[43m \u001b[49m\u001b[38;5;28;43mstr\u001b[39;49m\n",
      "\u001b[36mCell\u001b[39m\u001b[36m \u001b[39m\u001b[32mIn[2]\u001b[39m\u001b[32m, line 8\u001b[39m, in \u001b[36mUser\u001b[39m\u001b[34m()\u001b[39m\n\u001b[32m      5\u001b[39m email: \u001b[38;5;28mstr\u001b[39m\n\u001b[32m      6\u001b[39m account_id: \u001b[38;5;28mint\u001b[39m\n\u001b[32m----> \u001b[39m\u001b[32m8\u001b[39m \u001b[38;5;129m@validator\u001b[39m(\u001b[43maccount_id\u001b[49m)\n\u001b[32m      9\u001b[39m \u001b[38;5;28;01mdef\u001b[39;00m\u001b[38;5;250m \u001b[39m\u001b[34mvalidate_account_id\u001b[39m(\u001b[38;5;28mcls\u001b[39m, value: \u001b[38;5;28mint\u001b[39m):\n\u001b[32m     11\u001b[39m     \u001b[38;5;28;01mif\u001b[39;00m value <= \u001b[32m0\u001b[39m:\n\u001b[32m     12\u001b[39m         \u001b[38;5;28;01mraise\u001b[39;00m \u001b[38;5;167;01mValueError\u001b[39;00m(\u001b[33mf\u001b[39m\u001b[33m\"\u001b[39m\u001b[33mAccount id must be positive \u001b[39m\u001b[38;5;132;01m{\u001b[39;00mvalue\u001b[38;5;132;01m}\u001b[39;00m\u001b[33m\"\u001b[39m)\n",
      "\u001b[31mNameError\u001b[39m: name 'account_id' is not defined"
     ]
    }
   ],
   "source": [
    "from pydantic import BaseModel, EmailStr, validator\n",
    "\n",
    "class User(BaseModel):\n",
    "    name: str\n",
    "    email: str\n",
    "    account_id: int\n",
    "\n",
    "    @validator(account_id)\n",
    "    def validate_account_id(cls, value: int):\n",
    "\n",
    "        if value <= 0:\n",
    "            raise ValueError(f\"Account id must be positive {value}\")\n",
    "        \n",
    "        return value\n",
    "    \n",
    "user1: User = User(name=\"Zia Khan\", email='zia@panacloud.org', account_id=-200)\n",
    "\n",
    "user_json_str: str = user1.model_dump_json()\n",
    "\n",
    "print(user_json_str, type(user_json_str))\n",
    "\n",
    "# break\n",
    "\n",
    "user_obj: User = User.model_validate_json(user_json_str)\n",
    "\n",
    "print(user_obj)"
   ]
  },
  {
   "cell_type": "markdown",
   "id": "7d97fce3",
   "metadata": {},
   "source": [
    "### Create a Model"
   ]
  },
  {
   "cell_type": "code",
   "execution_count": 6,
   "id": "38161af7",
   "metadata": {},
   "outputs": [],
   "source": [
    "class User(BaseModel):\n",
    "    name: str\n",
    "    email: EmailStr\n",
    "    account_id: int\n",
    "\n",
    "    def validate_account_id(cls, value: int):\n",
    "\n",
    "        if value <= 0:\n",
    "            raise ValueError(f\"Account id must be positive {value}\")\n",
    "        \n",
    "        return value"
   ]
  },
  {
   "cell_type": "code",
   "execution_count": 9,
   "id": "6286fac4",
   "metadata": {},
   "outputs": [
    {
     "name": "stdout",
     "output_type": "stream",
     "text": [
      "name='Zia Khan' email='zia@panacloud.org' account_id=3400\n"
     ]
    }
   ],
   "source": [
    "user: User = User(name=\"Zia Khan\", email='zia@panacloud.org', account_id=3400)\n",
    "\n",
    "print(user)"
   ]
  },
  {
   "cell_type": "code",
   "execution_count": 10,
   "id": "cb454603",
   "metadata": {},
   "outputs": [
    {
     "name": "stdout",
     "output_type": "stream",
     "text": [
      "name='Zia Khan' email='zia@panacloud.org' account_id=-3400\n"
     ]
    }
   ],
   "source": [
    "user1: User = User(name=\"Zia Khan\", email='zia@panacloud.org', account_id=-3400)\n",
    "\n",
    "print(user1)"
   ]
  },
  {
   "cell_type": "code",
   "execution_count": 11,
   "id": "dc4c3ba1",
   "metadata": {},
   "outputs": [
    {
     "data": {
      "text/plain": [
       "'{\"name\":\"Zia Khan\",\"email\":\"zia@panacloud.org\",\"account_id\":3400}'"
      ]
     },
     "metadata": {},
     "output_type": "display_data"
    },
    {
     "data": {
      "text/plain": [
       "'{\"name\":\"Zia Khan\",\"email\":\"zia@panacloud.org\",\"account_id\":3400}'"
      ]
     },
     "execution_count": 11,
     "metadata": {},
     "output_type": "execute_result"
    }
   ],
   "source": [
    "display(user.model_dump_json())\n",
    "\n",
    "user.model_dump_json()"
   ]
  },
  {
   "cell_type": "code",
   "execution_count": 12,
   "id": "69e11275",
   "metadata": {},
   "outputs": [
    {
     "data": {
      "text/plain": [
       "User(name='Zia Khan', email='zia@panacloud.org', account_id=3400)"
      ]
     },
     "execution_count": 12,
     "metadata": {},
     "output_type": "execute_result"
    }
   ],
   "source": [
    "User.model_validate_json(user.model_dump_json())"
   ]
  },
  {
   "cell_type": "code",
   "execution_count": 13,
   "id": "59bd23ca",
   "metadata": {},
   "outputs": [
    {
     "data": {
      "text/plain": [
       "User(name='Zia Khan', email='zia@panacloud.org', account_id=-3400)"
      ]
     },
     "execution_count": 13,
     "metadata": {},
     "output_type": "execute_result"
    }
   ],
   "source": [
    "User.model_validate_json(user1.model_dump_json())"
   ]
  },
  {
   "cell_type": "markdown",
   "id": "6535a2a8",
   "metadata": {},
   "source": [
    "### JSON Ouput"
   ]
  },
  {
   "cell_type": "code",
   "execution_count": 14,
   "id": "64523656",
   "metadata": {},
   "outputs": [
    {
     "name": "stdout",
     "output_type": "stream",
     "text": [
      "{\"name\":\"Zia Khan\",\"email\":\"zia@panacloud.org\",\"account_id\":-3400} <class 'str'>\n"
     ]
    }
   ],
   "source": [
    "user_json_str: str = user1.model_dump_json()\n",
    "\n",
    "print(user_json_str, type(user_json_str))"
   ]
  },
  {
   "cell_type": "markdown",
   "id": "8d0a3ad7",
   "metadata": {},
   "source": [
    "### Dictionary Object"
   ]
  },
  {
   "cell_type": "code",
   "execution_count": 16,
   "id": "85ea39db",
   "metadata": {},
   "outputs": [
    {
     "name": "stdout",
     "output_type": "stream",
     "text": [
      "{'name': 'Zia Khan', 'email': 'zia@panacloud.org', 'account_id': 3400} <class 'dict'>\n"
     ]
    }
   ],
   "source": [
    "user_dict: dict = user.model_dump()\n",
    "\n",
    "print(user_dict, type(user_dict))"
   ]
  },
  {
   "cell_type": "markdown",
   "id": "827c6c1b",
   "metadata": {},
   "source": [
    "### Convert JSON str into Object"
   ]
  },
  {
   "cell_type": "code",
   "execution_count": 17,
   "id": "0b615adb",
   "metadata": {},
   "outputs": [
    {
     "name": "stdout",
     "output_type": "stream",
     "text": [
      "name='Zia Khan' email='zia@panacloud.org' account_id=-3400\n"
     ]
    }
   ],
   "source": [
    "user_obj: User = User.model_validate_json(user_json_str)\n",
    "\n",
    "print(user_obj)"
   ]
  },
  {
   "cell_type": "markdown",
   "id": "033c25cb",
   "metadata": {},
   "source": [
    "### Another Example"
   ]
  },
  {
   "cell_type": "code",
   "execution_count": 19,
   "id": "977e3853",
   "metadata": {},
   "outputs": [
    {
     "name": "stdout",
     "output_type": "stream",
     "text": [
      "id=123 name='John Doe' signup_ts=datetime.datetime(2017, 6, 1, 12, 22) friends=[1, 3, 5]\n",
      "123\n"
     ]
    }
   ],
   "source": [
    "from datetime import datetime\n",
    "\n",
    "from typing import Optional\n",
    "\n",
    "class User(BaseModel):\n",
    "    id: int\n",
    "    name: str = 'John Doe'\n",
    "    signup_ts: Optional[datetime] | None\n",
    "    friends: list[int] = []\n",
    "\n",
    "external_data: dict = {'id': '123', 'signup_ts': '2017-06-01 12:22', 'friends': [1, '3', b'5']}\n",
    "\n",
    "user: User = User(**external_data)\n",
    "\n",
    "print(user)\n",
    "\n",
    "print(user.id)"
   ]
  },
  {
   "cell_type": "code",
   "execution_count": null,
   "id": "04b296d4",
   "metadata": {},
   "outputs": [],
   "source": []
  }
 ],
 "metadata": {
  "kernelspec": {
   "display_name": "envapis",
   "language": "python",
   "name": "python3"
  },
  "language_info": {
   "codemirror_mode": {
    "name": "ipython",
    "version": 3
   },
   "file_extension": ".py",
   "mimetype": "text/x-python",
   "name": "python",
   "nbconvert_exporter": "python",
   "pygments_lexer": "ipython3",
   "version": "3.13.5"
  }
 },
 "nbformat": 4,
 "nbformat_minor": 5
}
