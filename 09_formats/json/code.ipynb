{
 "cells": [
  {
   "cell_type": "code",
   "execution_count": null,
   "id": "8b14498f",
   "metadata": {},
   "outputs": [],
   "source": [
    "import json\n",
    "\n",
    "from jsonschema import validate\n",
    "\n",
    "schema = {\n",
    "    \"type\": \"object\",\n",
    "    \"properties\": {\n",
    "        \"name\": {\"type\": \"string\"},\n",
    "        \"age\": {\"type\": \"integer\", \"minimum\": 18}\n",
    "    },\n",
    "    \"required\": [\"name\", \"age\"]\n",
    "}\n",
    "\n",
    "data = {\"name\": \"John Doe\", \"age\": 20}\n",
    "\n",
    "try:\n",
    "\n",
    "    validate(instance=data, schema=schema)\n",
    "\n",
    "    print(\"Data is valid\")\n",
    "\n",
    "except jsonschema.exceptions.ValidationError as e:\n",
    "\n",
    "    print(\"Data is invalid:\", e)\n",
    "    "
   ]
  },
  {
   "cell_type": "code",
   "execution_count": null,
   "id": "8826802d",
   "metadata": {},
   "outputs": [],
   "source": []
  }
 ],
 "metadata": {
  "kernelspec": {
   "display_name": "envapis",
   "language": "python",
   "name": "python3"
  },
  "language_info": {
   "name": "python",
   "version": "3.13.5"
  }
 },
 "nbformat": 4,
 "nbformat_minor": 5
}
